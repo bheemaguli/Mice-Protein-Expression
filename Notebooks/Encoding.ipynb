{
 "cells": [
  {
   "cell_type": "code",
   "execution_count": 1,
   "metadata": {},
   "outputs": [],
   "source": [
    "import numpy as np\n",
    "from sklearn.impute import SimpleImputer"
   ]
  },
  {
   "cell_type": "code",
   "execution_count": 2,
   "metadata": {},
   "outputs": [],
   "source": [
    "def feature_engineering(dataframe, useless_columns):\n",
    "    for col in useless_columns:\n",
    "        if col in dataframe:\n",
    "            dataframe = dataframe.drop(col,axis=1)\n",
    "    return dataframe\n",
    "\n",
    "def categorical_encoding(dataframe, column_name):\n",
    "    code = {}\n",
    "    \n",
    "    for idx, category_name in enumerate(dataframe[column_name].unique()):\n",
    "        code[category_name] = idx\n",
    "\n",
    "    dataframe[column_name] = dataframe[column_name].map(code)\n",
    "    \n",
    "    return dataframe, code\n",
    "    \n",
    "def imputation(dataframe):\n",
    "    for col in dataframe.columns:\n",
    "        imputer = SimpleImputer(strategy='mean', missing_values=np.nan)\n",
    "        imputer = imputer.fit(dataframe[[col]])\n",
    "        dataframe[col] = imputer.transform(dataframe[[col]])\n",
    "    return dataframe\n",
    "\n",
    "def preprocessing(dataframe, useless_columns):\n",
    "    dataframe = feature_engineering(dataframe, useless_columns)\n",
    "\n",
    "    mapping_code = {}\n",
    "    for col in dataframe.select_dtypes('object'):\n",
    "        dataframe, mapping_code[col] = categorical_encoding(dataframe, col)\n",
    "\n",
    "    dataframe = imputation(dataframe)\n",
    "    \n",
    "    X = dataframe.drop('Class',axis=1)\n",
    "    y = dataframe['Class'].astype(int)\n",
    "      \n",
    "    return dataframe,X,y, mapping_code"
   ]
  }
 ],
 "metadata": {
  "kernelspec": {
   "display_name": "Python 3.10.4 ('mice')",
   "language": "python",
   "name": "python3"
  },
  "language_info": {
   "codemirror_mode": {
    "name": "ipython",
    "version": 3
   },
   "file_extension": ".py",
   "mimetype": "text/x-python",
   "name": "python",
   "nbconvert_exporter": "python",
   "pygments_lexer": "ipython3",
   "version": "3.10.4"
  },
  "orig_nbformat": 4,
  "vscode": {
   "interpreter": {
    "hash": "e3c914aeb2f26cd017de6e2635f1994009caf52800dc89f1bd28e6c5cb91ce61"
   }
  }
 },
 "nbformat": 4,
 "nbformat_minor": 2
}
